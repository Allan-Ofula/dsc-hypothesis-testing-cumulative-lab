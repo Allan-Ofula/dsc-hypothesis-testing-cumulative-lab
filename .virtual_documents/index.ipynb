














# Run this cell without changes
import pandas as pd
import matplotlib.pyplot as plt
import numpy as np
get_ipython().run_line_magic("matplotlib", " inline")


# Run this cell without changes
df = pd.read_csv("data/case_study.csv", index_col=0, low_memory=False)
df





# Run this cell without changes
df['PHYSHLTH'].describe()


# Run this cell without changes
fig, ax = plt.subplots()
ax.hist(df["PHYSHLTH"], bins="auto")
ax.set_xlabel("PHYSHLTH")
ax.set_ylabel("Count")
ax.set_title("Distribution of PHYSHLTH in Raw Data");
plt.show()








# Replace None with appropriate text
"""
None
"""





# Your code here

# Replacing special codes with appropriate values
df["PHYSHLTH"] = df["PHYSHLTH"].replace({88: 0, 99: np.nan})

# Keeping only valid values (0-30) and drop NaNs
df = df[df["PHYSHLTH"].between(0, 30)]





# Run this cell without changes

# We should have fewer rows, the same number of columns
assert df.shape == (33747, 358)

# The maximum value in this column should now be 30
assert df["PHYSHLTH"].max() == 30.0





# Run this cell without changes
df['PHYSHLTH'].describe()


# Run this cell without changes
fig, ax = plt.subplots()
ax.hist(df["PHYSHLTH"])
ax.set_xlabel("PHYSHLTH")
ax.set_ylabel("Count")
ax.set_title("Distribution of PHYSHLTH in Cleaned Data");
plt.show()








# Run this cell without changes
df["_STATE"].value_counts()





# Your code here

# Replacing numeric state codes with actual state names
state_mapping = {36.0: "New York", 34.0: "New Jersey", 9.0: "Connecticut"}
df.loc[:, "_STATE"] = df["_STATE"].replace(state_mapping)





# Run this cell without changes

# Shape should be the same
assert df.shape == (33747, 358)

# Values in state column should be changed
assert sorted(list(df["_STATE"].value_counts().index)) == ['Connecticut', 'New Jersey', 'New York']


# Run this cell without changes

ny = df.loc[df["_STATE"] == "New York", "PHYSHLTH"]
nj = df.loc[df["_STATE"] == "New Jersey", "PHYSHLTH"]
ct = df.loc[df["_STATE"] == "Connecticut", "PHYSHLTH"]

fig, ax = plt.subplots(figsize=(15, 6))

ax.hist(
    x=[ny, nj, ct],
    label=["New York", "New Jersey", "Connecticut"],
    bins=range(32),
    align="left"
)

ax.set_xlabel("PHYSHLTH")
ax.set_ylabel("Count")
ax.set_title("Distribution of PHYSHLTH by State")

ax.legend(title="State");
plt.show()





# Replace None with appropriate text
"""
From the histogram, the overall shape of the PHYSHLTH distributions across the three states appears similar, with most respondents reporting few or no unhealthy days. However, there are slight variations in the frequencies of higher values, suggesting potential differences in mean values.
"""





# Run this cell without changes
df.groupby("_STATE")["PHYSHLTH"].mean()








# Replace None with appropriate text
"""
The appropriate statistical test is a One-Way ANOVA because we are comparing a numeric dependent variable (PHYSHLTH) across three independent categorical groups (states). ANOVA allows us to determine if there is a statistically significant difference in the means of PHYSHLTH across the states.
"""





# Replace None with appropriate text
"""
H₀: The mean PHYSHLTH is the same across all three states.
H₁: At least one state has a different mean PHYSHLTH compared to the others.
"""





# Run this cell without changes
import statsmodels.api as sm
from statsmodels.formula.api import ols

formula = 'PHYSHLTH ~ C(_STATE)'
lm = ols(formula, df).fit()
sm.stats.anova_lm(lm)





# Replace None with appropriate text

"""
Interpretation of ANOVA Results

**Calculated p-value:**  
The p-value (**8.80 × 10⁻⁹**) is much lower than **0.05**, so we **reject the null hypothesis**.  

 **Conclusion:**  
There is a **significant difference** in the average number of unhealthy days (PHYSHLTH) among the three states. This suggests that factors like **healthcare access, socioeconomic conditions, or public health policies** may vary by state.  

 **Recommendations:**  
1. **Identify Key Differences** – Conduct further analysis to pinpoint which states differ most.  
2. **Targeted Interventions** – States with higher unhealthy days should implement health initiatives.  
3. **Address Root Causes** – Investigate factors like income, healthcare access, and environment.  
4. **Allocate Resources** – Direct public health efforts where they are needed most.  

State-specific policies could help reduce disparities in physical health outcomes.
"""








# Run this cell without changes
df["RENTHOM1"].value_counts()





# Your code here

# Mapping numeric codes to 'Own' and 'Rent' based on the data dictionary
home_ownership_mapping = {
    1: "Own",  # Own home
    2: "Rent"  # Rent home
}

# Replacing numeric values with corresponding labels using .loc[]
df.loc[:, "RENTHOM1"] = df["RENTHOM1"].replace(home_ownership_mapping)

# Dropping rows where RENTHOM1 is not 'Own' or 'Rent'
df = df[df["RENTHOM1"].isin(["Own", "Rent"])].copy()


# Run this cell without changes
df["RENTHOM1"].value_counts()





# Run this cell without changes

# Number of rows should be smaller again
assert df.shape == (31934, 358)

# Only two values should be present in this column
assert sorted(list(df["RENTHOM1"].value_counts().index)) == ['Own', 'Rent']





# Your code here


# Separating PHYSHLTH values by home ownership status
own = df.loc[df["RENTHOM1"] == "Own", "PHYSHLTH"]
rent = df.loc[df["RENTHOM1"] == "Rent", "PHYSHLTH"]

# Plotting histogram with density scaling
fig, ax = plt.subplots(figsize=(12, 6))

ax.hist(
    [own, rent],
    bins=range(32),  
    density=True,  
    alpha=0.6,  
    label=["Own", "Rent"]
)

# Set labels and title
ax.set_xlabel("Number of Unhealthy Days (PHYSHLTH)")
ax.set_ylabel("Density")
ax.set_title("Distribution of PHYSHLTH by Home Ownership Status")
ax.legend(title="Home Ownership")

# Display
plt.show()





# Run this cell without changes
df.groupby("RENTHOM1")["PHYSHLTH"].mean()





# Replace None with appropriate text
"""
None
"""





# Your code here (create additional cells as needed)





# Your code here

# Look at the distribution of values
df["NICOTINE_USE"].value_counts(normalize=True)





# Your code here

# View the distribution of the newly-created column
df["CHRONIC"].value_counts()





# Run this cell without changes
contingency_table = pd.crosstab(index=df["CHRONIC"], columns=df["NICOTINE_USE"])
contingency_table


# Run this cell without changes

no_nicotine_use = df.loc[df["NICOTINE_USE"] == 0, "CHRONIC"]
nicotine_use = df.loc[df["NICOTINE_USE"] == 1, "CHRONIC"]

fig, ax = plt.subplots()

ax.hist(
    x=[no_nicotine_use, nicotine_use],
    label=["No Nicotine Use", "Nicotine Use"],
    bins=[0,1,2],
    align="left"
)

ax.set_ylabel("Count")
ax.set_xticks([0,1])
ax.set_xticklabels(["Not Chronically Sick", "Chronically Sick"])
ax.set_title("Distribution of Chronic Sickness by Nicotine Use")

ax.legend();





# Your code here (create additional cells as needed)





# Your code here (create additional cells as needed)



